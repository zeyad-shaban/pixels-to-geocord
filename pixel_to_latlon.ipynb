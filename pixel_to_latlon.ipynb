{
 "cells": [
  {
   "cell_type": "code",
   "execution_count": 343,
   "id": "bdf26cbf",
   "metadata": {},
   "outputs": [
    {
     "ename": "ImportError",
     "evalue": "cannot import name 'ScipyRotation' from 'scipy.spatial.transform' (/home/zeyadcode/Videos/RobEn/.venv/lib/python3.10/site-packages/scipy/spatial/transform/__init__.py)",
     "output_type": "error",
     "traceback": [
      "\u001b[0;31m---------------------------------------------------------------------------\u001b[0m",
      "\u001b[0;31mImportError\u001b[0m                               Traceback (most recent call last)",
      "Cell \u001b[0;32mIn[343], line 5\u001b[0m\n\u001b[1;32m      3\u001b[0m \u001b[38;5;28;01mfrom\u001b[39;00m\u001b[38;5;250m \u001b[39m\u001b[38;5;21;01mutils\u001b[39;00m\u001b[38;5;21;01m.\u001b[39;00m\u001b[38;5;21;01mextract_gps\u001b[39;00m\u001b[38;5;250m \u001b[39m\u001b[38;5;28;01mimport\u001b[39;00m extract_gps\n\u001b[1;32m      4\u001b[0m \u001b[38;5;28;01mimport\u001b[39;00m\u001b[38;5;250m \u001b[39m\u001b[38;5;21;01mcv2\u001b[39;00m\n\u001b[0;32m----> 5\u001b[0m \u001b[38;5;28;01mfrom\u001b[39;00m\u001b[38;5;250m \u001b[39m\u001b[38;5;21;01mscipy\u001b[39;00m\u001b[38;5;21;01m.\u001b[39;00m\u001b[38;5;21;01mspatial\u001b[39;00m\u001b[38;5;21;01m.\u001b[39;00m\u001b[38;5;21;01mtransform\u001b[39;00m\u001b[38;5;250m \u001b[39m\u001b[38;5;28;01mimport\u001b[39;00m Rotation, ScipyRotation\n\u001b[1;32m      6\u001b[0m \u001b[38;5;28;01mfrom\u001b[39;00m\u001b[38;5;250m \u001b[39m\u001b[38;5;21;01mpyproj\u001b[39;00m\u001b[38;5;250m \u001b[39m\u001b[38;5;28;01mimport\u001b[39;00m Proj, Transformer\n\u001b[1;32m      7\u001b[0m \u001b[38;5;28;01mimport\u001b[39;00m\u001b[38;5;250m \u001b[39m\u001b[38;5;21;01mmath\u001b[39;00m\n",
      "\u001b[0;31mImportError\u001b[0m: cannot import name 'ScipyRotation' from 'scipy.spatial.transform' (/home/zeyadcode/Videos/RobEn/.venv/lib/python3.10/site-packages/scipy/spatial/transform/__init__.py)"
     ]
    }
   ],
   "source": [
    "import numpy as np\n",
    "import matplotlib.pyplot as plt\n",
    "from utils.extract_gps import extract_gps\n",
    "import cv2\n",
    "from scipy.spatial.transform import Rotation, ScipyRotation\n",
    "from pyproj import Proj, Transformer\n",
    "import math"
   ]
  },
  {
   "cell_type": "code",
   "execution_count": 344,
   "id": "ce7bc72d",
   "metadata": {},
   "outputs": [
    {
     "name": "stdout",
     "output_type": "stream",
     "text": [
      "Prediction error: 141.40 meters\n"
     ]
    }
   ],
   "source": [
    "def haversine(lat1, lon1, lat2, lon2, R=6371000):\n",
    "    \"\"\"\n",
    "    Calculate the great-circle distance between two points\n",
    "    on the Earth using the haversine formula.\n",
    "\n",
    "    Parameters:\n",
    "      lat1, lon1: latitude and longitude of point 1 (in degrees)\n",
    "      lat2, lon2: latitude and longitude of point 2 (in degrees)\n",
    "      R: Earth radius in meters (default 6,371,000 m)\n",
    "\n",
    "    Returns:\n",
    "      Distance between the two points in meters.\n",
    "    \"\"\"\n",
    "    # convert degrees to radians\n",
    "    φ1, φ2 = math.radians(lat1), math.radians(lat2)\n",
    "    Δφ = math.radians(lat2 - lat1)\n",
    "    Δλ = math.radians(lon2 - lon1)\n",
    "\n",
    "    # haversine formula\n",
    "    a = math.sin(Δφ / 2) ** 2 + math.cos(φ1) * math.cos(φ2) * math.sin(Δλ / 2) ** 2\n",
    "    c = 2 * math.atan2(math.sqrt(a), math.sqrt(1 - a))\n",
    "\n",
    "    return R * c\n",
    "\n",
    "\n",
    "# Example with your points:\n",
    "lat_pred, lon_pred = 29.81833793, 30.82473345\n",
    "lat_true, lon_true = 29.81891470, 30.82603970\n",
    "\n",
    "error_m = haversine(lat_pred, lon_pred, lat_true, lon_true)\n",
    "print(f\"Prediction error: {error_m:.2f} meters\")"
   ]
  },
  {
   "cell_type": "code",
   "execution_count": 507,
   "id": "64de33c1",
   "metadata": {},
   "outputs": [
    {
     "name": "stderr",
     "output_type": "stream",
     "text": [
      "Loading GoPro Data Track: 0 [  0.0 B]  [  0.0 s/B]\n",
      "Loading GoPro Data Track: 3,790,072 [  3.6 MiB]  [333.7 MiB/s]\n",
      "    Timer(GPMD - Called: 1, Total: 0.28309, Avg: 0.28309, Rate: 3.53)\n",
      ">> Found GPS9 \n",
      "    Timer(extract GPS - Called: 1, Total: 0.62280, Avg: 0.62280, Rate: 1.61)\n",
      "    Timer(extract ACCL - Called: 1, Total: 3.32022, Avg: 3.32022, Rate: 0.30)\n",
      "    Timer(extract GRAV - Called: 1, Total: 1.33047, Avg: 1.33047, Rate: 0.75)\n",
      "    Timer(extract CORI - Called: 1, Total: 1.83382, Avg: 1.83382, Rate: 0.55)\n",
      "Timer(parsing - Called: 1, Total: 7.39102, Avg: 7.39102, Rate: 0.14)\n"
     ]
    },
    {
     "data": {
      "text/plain": [
       "{'lat': 29.8193836,\n",
       " 'lon': 30.8260162,\n",
       " 'alt': 297.087 <Unit('meter')>,\n",
       " 'yaw': -0.4699841058365676 <Unit('radian')>,\n",
       " 'pitch': 0.5529265994253082 <Unit('radian')>,\n",
       " 'roll': 0.9355096358215894 <Unit('radian')>}"
      ]
     },
     "execution_count": 507,
     "metadata": {},
     "output_type": "execute_result"
    }
   ],
   "source": [
    "data_pnts = [\n",
    "    {\n",
    "        \"frame_number\": 2364,\n",
    "        \"pixel_pos\": [1065, 2009],\n",
    "    },\n",
    "    {\n",
    "        \"frame_number\": 5573,\n",
    "        \"pixel_pos\": [3683, 1249],\n",
    "    },\n",
    "    {\n",
    "        \"frame_number\": 3675,\n",
    "        \"pixel_pos\": [3443.11, 2107.63],\n",
    "    },\n",
    "    \n",
    "]\n",
    "\n",
    "data_pnt = data_pnts[1]\n",
    "\n",
    "\n",
    "# R and t matrix preparation\n",
    "video_path = \"./data/GX011072.MP4\"\n",
    "frame_number = data_pnt[\"frame_number\"]\n",
    "fps = 30\n",
    "\n",
    "gps_data = extract_gps(video_path, frame_number, fps)\n",
    "gps_data"
   ]
  },
  {
   "cell_type": "code",
   "execution_count": null,
   "id": "34389fc8",
   "metadata": {},
   "outputs": [],
   "source": [
    "# WGS84 system\n",
    "camera_lat = gps_data['lat']\n",
    "camera_lon = gps_data['lon']\n",
    "camera_alt = gps_data['alt'].magnitude\n",
    "\n",
    "yaw = gps_data['yaw'].magnitude\n",
    "pitch = gps_data['pitch'].magnitude\n",
    "roll = gps_data['roll'].magnitude\n",
    "\n",
    "GROUND_ALT = 269 # 246 is the correct, 309.4 worked on frame 5573 # ! THE FLAG ALTITUDE POSITION, LIKE LITERAL ALTITUDE POSITION, THIS IS NOT RELATIVE TO ANYTHING\n",
    "\n",
    "#  6oct: 246\n",
    "# cam: 232.81"
   ]
  },
  {
   "cell_type": "code",
   "execution_count": 509,
   "id": "6eb52c62",
   "metadata": {},
   "outputs": [
    {
     "name": "stdout",
     "output_type": "stream",
     "text": [
      "[[4.66270808e+03 0.00000000e+00 2.68948998e+03]\n",
      " [0.00000000e+00 4.66111981e+03 2.48375385e+03]\n",
      " [0.00000000e+00 0.00000000e+00 1.00000000e+00]] (3, 3)\n",
      "[[ 1.57115562e-01 -1.80126890e+00  1.56035942e-03 -7.29443881e-03\n",
      "   9.98523709e+00]] (1, 5)\n"
     ]
    }
   ],
   "source": [
    "calibration_result = np.load('./calibration_result.npz')\n",
    "\n",
    "pixel_pos = np.array(data_pnt['pixel_pos'], dtype=np.float32)\n",
    "pixel_pos_reshaped = np.array([[pixel_pos]]) # 1x1x2\n",
    "K = calibration_result['K'] # 3x3\n",
    "K[2, 2] = 1.0\n",
    "\n",
    "K_inv = np.linalg.inv(K)\n",
    "dist_coeffs = calibration_result['dist_coeffs'] # 1x5\n",
    "\n",
    "print(K, K.shape)\n",
    "print(dist_coeffs, dist_coeffs.shape)"
   ]
  },
  {
   "cell_type": "code",
   "execution_count": 510,
   "id": "c5bf0bcd",
   "metadata": {},
   "outputs": [],
   "source": [
    "R_cam2imu = np.array(\n",
    "    [\n",
    "        [1, 0, 0],  # IMU‑X =  1·Cam‑X + 0·Cam‑Y + 0·Cam‑Z\n",
    "        [0, 0, 1],  # IMU‑Y =            1·Cam‑Z\n",
    "        [0, -1, 0],  # IMU‑Z = -1·Cam‑Y\n",
    "    ]\n",
    ")\n",
    "\n",
    "R_cam2body = np.array(\n",
    "    [\n",
    "        [0, -1, 0],  # body X = -cam Y\n",
    "        [1, 0, 0],  # body Y =  cam X\n",
    "        [0, 0, 1],  # body Z =  cam Z\n",
    "    ]\n",
    ")"
   ]
  },
  {
   "cell_type": "code",
   "execution_count": null,
   "id": "2e991b36",
   "metadata": {},
   "outputs": [],
   "source": [
    "# distortation and normalization\n",
    "undistorted_point = cv2.undistortPoints(pixel_pos, K, dist_coeffs, None, K)\n",
    "ray_cam = np.array([undistorted_point[0][0][0], undistorted_point[0][0][1], 1.0])\n",
    "\n",
    "# Convert from normalized image plane coordinates to a proper 3D direction vector\n",
    "ray_cam = np.linalg.inv(K) @ ray_cam\n",
    "ray_cam = ray_cam / np.linalg.norm(ray_cam)  # Normalize to unit vector\n",
    "\n",
    "# Convert optical -> IMU\n",
    "ray_cam = R_cam2imu @ ray_cam\n",
    "\n",
    "# Rotation from ENU world frame to body frame\n",
    "R_world_to_body = ScipyRotation.from_euler(\"zyx\", [yaw, pitch, roll], degrees=False)\n",
    "R_cam_to_world = R_world_to_body.inv()\n",
    "\n",
    "# 5. Transform ray into the World Frame\n",
    "ray_world = R_cam_to_world.apply(ray_cam)\n",
    "\n",
    "# 6. Ray-Plane Intersection\n",
    "camera_pos_enu = np.array([0, 0, camera_alt])"
   ]
  },
  {
   "cell_type": "code",
   "execution_count": 512,
   "id": "3dd54f5a",
   "metadata": {},
   "outputs": [
    {
     "name": "stdout",
     "output_type": "stream",
     "text": [
      "[-0.87033819 -0.08254568  0.48548701]\n",
      "\n",
      "--- Calculated Ground Coordinates ---\n",
      "Latitude:  29.81942668\n",
      "Longitude: 30.82653711\n"
     ]
    },
    {
     "data": {
      "text/plain": [
       "74.45619641458195"
      ]
     },
     "execution_count": 512,
     "metadata": {},
     "output_type": "execute_result"
    }
   ],
   "source": [
    "print(ray_world)\n",
    "if ray_world[2] >= 0 and False:\n",
    "    print(\"Error: Ray is not pointing towards the ground. Check pitch and roll angles.\")\n",
    "else:\n",
    "    t = (GROUND_ALT - camera_pos_enu[2]) / ray_world[2]\n",
    "    intersection_enu = camera_pos_enu + t * ray_world\n",
    "\n",
    "    # 7. Convert ENU intersection point back to Lat/Lon\n",
    "    # Define the WGS84 and local ENU projections\n",
    "    wgs84 = \"EPSG:4326\"  # Lat/Lon\n",
    "    enu_proj = f\"+proj=aeqd +lat_0={camera_lat} +lon_0={camera_lon} +ellps=WGS84\"\n",
    "\n",
    "    # Create the transformer\n",
    "    transformer = Transformer.from_crs(enu_proj, wgs84, always_xy=True)\n",
    "\n",
    "    # Transform the East (X) and North (Y) coordinates\n",
    "    lon, lat = transformer.transform(intersection_enu[0], intersection_enu[1])\n",
    "\n",
    "    print(\"\\n--- Calculated Ground Coordinates ---\")\n",
    "    print(f\"Latitude:  {lat:.8f}\")\n",
    "    print(f\"Longitude: {lon:.8f}\")\n",
    "\n",
    "correct_lat = 29.8189147\n",
    "correct_lon = 30.8260397\n",
    "\n",
    "error = haversine(lat, lon, correct_lat, correct_lon)\n",
    "error"
   ]
  },
  {
   "cell_type": "code",
   "execution_count": null,
   "id": "491ece1c",
   "metadata": {},
   "outputs": [],
   "source": []
  },
  {
   "cell_type": "code",
   "execution_count": null,
   "id": "1c662c07",
   "metadata": {},
   "outputs": [],
   "source": []
  }
 ],
 "metadata": {
  "kernelspec": {
   "display_name": ".venv",
   "language": "python",
   "name": "python3"
  },
  "language_info": {
   "codemirror_mode": {
    "name": "ipython",
    "version": 3
   },
   "file_extension": ".py",
   "mimetype": "text/x-python",
   "name": "python",
   "nbconvert_exporter": "python",
   "pygments_lexer": "ipython3",
   "version": "3.10.12"
  }
 },
 "nbformat": 4,
 "nbformat_minor": 5
}
